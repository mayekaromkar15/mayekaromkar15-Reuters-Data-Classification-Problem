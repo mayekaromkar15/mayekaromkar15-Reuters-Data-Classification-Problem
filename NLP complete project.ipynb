{
 "cells": [
  {
   "cell_type": "code",
   "execution_count": 1,
   "metadata": {},
   "outputs": [],
   "source": [
    "import os\n",
    "import pandas as pd\n",
    "\n",
    "#specifying the path \n",
    "path = \"D:\\Python data\\Reuters data/\"\n",
    "\n",
    "# Creating the i/o handle \n",
    "f = open(path + \"training_money-fx_14777.txt\")"
   ]
  },
  {
   "cell_type": "code",
   "execution_count": 2,
   "metadata": {},
   "outputs": [],
   "source": [
    "# for line in f:\n",
    "#     print(line)"
   ]
  },
  {
   "cell_type": "code",
   "execution_count": 3,
   "metadata": {},
   "outputs": [
    {
     "data": {
      "text/plain": [
       "'Bank of Japan buys dollars shortly after opening at around 145.30 yen -- dealers  Bank of Japan buys dollars shortly after opening at around 145.30 yen -- dealers  '"
      ]
     },
     "execution_count": 3,
     "metadata": {},
     "output_type": "execute_result"
    }
   ],
   "source": [
    "sentences = \" \".join([word.strip() for word in f if word != \"\" ])\n",
    "\n",
    "sentences"
   ]
  },
  {
   "cell_type": "code",
   "execution_count": 4,
   "metadata": {},
   "outputs": [],
   "source": [
    "import os\n",
    "\n",
    "# total no of files in that particular directory\n",
    "files = os.listdir(path)\n",
    "\n",
    "# Selecting the files that have \".txt\" as their extension\n",
    "files = [file for file in files if \".txt\" in file]"
   ]
  },
  {
   "cell_type": "code",
   "execution_count": 5,
   "metadata": {},
   "outputs": [],
   "source": [
    "# Now iterating through each and every file and also creating i/o handle as well as seperating the crude and money data\n",
    "target = []\n",
    "article = []\n",
    "for file in files :\n",
    "    f = open(path + file,encoding=\"latin-1\")\n",
    "    sentences = \" \".join([word.strip() for word in f if word.strip() != \" \" ])\n",
    "    \n",
    "    if \"crude\" in file:\n",
    "        target.append(\"crude\")\n",
    "        article.append(sentences)\n",
    "    else:\n",
    "        target.append(\"money\")\n",
    "        article.append(sentences)\n",
    "    f.close()"
   ]
  },
  {
   "cell_type": "code",
   "execution_count": 6,
   "metadata": {},
   "outputs": [
    {
     "data": {
      "text/html": [
       "<div>\n",
       "<style scoped>\n",
       "    .dataframe tbody tr th:only-of-type {\n",
       "        vertical-align: middle;\n",
       "    }\n",
       "\n",
       "    .dataframe tbody tr th {\n",
       "        vertical-align: top;\n",
       "    }\n",
       "\n",
       "    .dataframe thead th {\n",
       "        text-align: right;\n",
       "    }\n",
       "</style>\n",
       "<table border=\"1\" class=\"dataframe\">\n",
       "  <thead>\n",
       "    <tr style=\"text-align: right;\">\n",
       "      <th></th>\n",
       "      <th>Article</th>\n",
       "      <th>Target</th>\n",
       "    </tr>\n",
       "  </thead>\n",
       "  <tbody>\n",
       "    <tr>\n",
       "      <th>0</th>\n",
       "      <td>CANADA OIL EXPORTS RISE 20 PCT IN 1986 Canadia...</td>\n",
       "      <td>crude</td>\n",
       "    </tr>\n",
       "    <tr>\n",
       "      <th>1</th>\n",
       "      <td>BP &amp;lt;BP&gt; DOES NOT PLAN TO HIKE STANDARD &amp;lt;...</td>\n",
       "      <td>crude</td>\n",
       "    </tr>\n",
       "    <tr>\n",
       "      <th>2</th>\n",
       "      <td>BP&amp;lt;BP&gt; OFFER RAISES EXPECTATIONS FOR OIL VA...</td>\n",
       "      <td>crude</td>\n",
       "    </tr>\n",
       "    <tr>\n",
       "      <th>3</th>\n",
       "      <td>USX &amp;lt;X&gt; SAYS TALKS ENDED WITH BRITISH PETRO...</td>\n",
       "      <td>crude</td>\n",
       "    </tr>\n",
       "    <tr>\n",
       "      <th>4</th>\n",
       "      <td>BP &amp;lt;BP&gt; MAY HAVE TO RAISE BID -  ANALYSTS B...</td>\n",
       "      <td>crude</td>\n",
       "    </tr>\n",
       "  </tbody>\n",
       "</table>\n",
       "</div>"
      ],
      "text/plain": [
       "                                             Article Target\n",
       "0  CANADA OIL EXPORTS RISE 20 PCT IN 1986 Canadia...  crude\n",
       "1  BP &lt;BP> DOES NOT PLAN TO HIKE STANDARD &lt;...  crude\n",
       "2  BP&lt;BP> OFFER RAISES EXPECTATIONS FOR OIL VA...  crude\n",
       "3  USX &lt;X> SAYS TALKS ENDED WITH BRITISH PETRO...  crude\n",
       "4  BP &lt;BP> MAY HAVE TO RAISE BID -  ANALYSTS B...  crude"
      ]
     },
     "execution_count": 6,
     "metadata": {},
     "output_type": "execute_result"
    }
   ],
   "source": [
    "# Creating a dataframe \n",
    "mydata = pd.DataFrame({\"Target\":target,\"Article\":article})\n",
    "\n",
    "mydata.head()"
   ]
  },
  {
   "cell_type": "code",
   "execution_count": 7,
   "metadata": {},
   "outputs": [],
   "source": [
    "import re\n",
    "import nltk\n",
    "from nltk.stem.wordnet import WordNetLemmatizer\n",
    "lemma = WordNetLemmatizer()\n",
    "from nltk.stem import PorterStemmer\n",
    "from nltk.corpus import stopwords\n",
    "from string import punctuation\n",
    "mystop = set(stopwords.words(\"english\") + list(punctuation))"
   ]
  },
  {
   "cell_type": "code",
   "execution_count": 8,
   "metadata": {},
   "outputs": [],
   "source": [
    "corpus = []\n",
    "for i in range(len(mydata.Article)):\n",
    "    review = re.sub(\"[^a-zA-Z]\",\" \", str(mydata.Article[i]))\n",
    "    review = review.lower()\n",
    "    review = re.sub(\"\\s+\",\" \", review)\n",
    "    review = review.split()\n",
    "    review = [lemma.lemmatize(word) for word in review if word not in mystop]\n",
    "    review = \" \".join(review)\n",
    "    corpus.append(review)"
   ]
  },
  {
   "cell_type": "code",
   "execution_count": 9,
   "metadata": {},
   "outputs": [
    {
     "data": {
      "text/plain": [
       "'u k money market shortage forecast revised bank england said revised forecast shortage money market mln stg taking account morning operation noon bank estimated shortfall mln stg'"
      ]
     },
     "execution_count": 9,
     "metadata": {},
     "output_type": "execute_result"
    }
   ],
   "source": [
    "corpus[926]"
   ]
  },
  {
   "cell_type": "code",
   "execution_count": 10,
   "metadata": {},
   "outputs": [],
   "source": [
    "#     mydata.Article[i] = [word for word in mydata.Article[i] if word not in mystop]\n",
    "#     mydata.Article[i] = [lemma.lemmatize(word) for word in mydata.Article[i]]"
   ]
  },
  {
   "cell_type": "code",
   "execution_count": 11,
   "metadata": {},
   "outputs": [
    {
     "data": {
      "text/html": [
       "<div>\n",
       "<style scoped>\n",
       "    .dataframe tbody tr th:only-of-type {\n",
       "        vertical-align: middle;\n",
       "    }\n",
       "\n",
       "    .dataframe tbody tr th {\n",
       "        vertical-align: top;\n",
       "    }\n",
       "\n",
       "    .dataframe thead th {\n",
       "        text-align: right;\n",
       "    }\n",
       "</style>\n",
       "<table border=\"1\" class=\"dataframe\">\n",
       "  <thead>\n",
       "    <tr style=\"text-align: right;\">\n",
       "      <th></th>\n",
       "      <th>Article</th>\n",
       "      <th>Target</th>\n",
       "    </tr>\n",
       "  </thead>\n",
       "  <tbody>\n",
       "    <tr>\n",
       "      <th>0</th>\n",
       "      <td>CANADA OIL EXPORTS RISE 20 PCT IN 1986 Canadia...</td>\n",
       "      <td>crude</td>\n",
       "    </tr>\n",
       "    <tr>\n",
       "      <th>1</th>\n",
       "      <td>BP &amp;lt;BP&gt; DOES NOT PLAN TO HIKE STANDARD &amp;lt;...</td>\n",
       "      <td>crude</td>\n",
       "    </tr>\n",
       "    <tr>\n",
       "      <th>2</th>\n",
       "      <td>BP&amp;lt;BP&gt; OFFER RAISES EXPECTATIONS FOR OIL VA...</td>\n",
       "      <td>crude</td>\n",
       "    </tr>\n",
       "    <tr>\n",
       "      <th>3</th>\n",
       "      <td>USX &amp;lt;X&gt; SAYS TALKS ENDED WITH BRITISH PETRO...</td>\n",
       "      <td>crude</td>\n",
       "    </tr>\n",
       "    <tr>\n",
       "      <th>4</th>\n",
       "      <td>BP &amp;lt;BP&gt; MAY HAVE TO RAISE BID -  ANALYSTS B...</td>\n",
       "      <td>crude</td>\n",
       "    </tr>\n",
       "    <tr>\n",
       "      <th>5</th>\n",
       "      <td>STANDARD OIL &amp;lt;SRD&gt; SEES BOOST IN 1987 CASH ...</td>\n",
       "      <td>crude</td>\n",
       "    </tr>\n",
       "    <tr>\n",
       "      <th>6</th>\n",
       "      <td>NEXT FEW MONTHS CRUCIAL FOR OIL - HERNANDEZ En...</td>\n",
       "      <td>crude</td>\n",
       "    </tr>\n",
       "    <tr>\n",
       "      <th>7</th>\n",
       "      <td>BRAZIL OIL OUTPUT FELL IN FEBRUARY, USAGE UP B...</td>\n",
       "      <td>crude</td>\n",
       "    </tr>\n",
       "    <tr>\n",
       "      <th>8</th>\n",
       "      <td>OIL EXECUTIVES SEE GRADUAL RISE IN PRICES Top ...</td>\n",
       "      <td>crude</td>\n",
       "    </tr>\n",
       "    <tr>\n",
       "      <th>9</th>\n",
       "      <td>KENYAN ECONOMY FACES PROBLEMS, PRESIDENT SAYS ...</td>\n",
       "      <td>crude</td>\n",
       "    </tr>\n",
       "    <tr>\n",
       "      <th>10</th>\n",
       "      <td>INDIA STEPS UP COUNTERTRADE DEALS TO CUT TRADE...</td>\n",
       "      <td>crude</td>\n",
       "    </tr>\n",
       "    <tr>\n",
       "      <th>11</th>\n",
       "      <td>PAPANDREOU SAYS GREEKS READY FOR AGGRESSORS Gr...</td>\n",
       "      <td>crude</td>\n",
       "    </tr>\n",
       "    <tr>\n",
       "      <th>12</th>\n",
       "      <td>INDIA STEPS UP COUNTERTRADE DEALS India is sea...</td>\n",
       "      <td>crude</td>\n",
       "    </tr>\n",
       "    <tr>\n",
       "      <th>13</th>\n",
       "      <td>NATO HOLDS EMERGENCY MEETING ON AEGEAN CRISIS ...</td>\n",
       "      <td>crude</td>\n",
       "    </tr>\n",
       "    <tr>\n",
       "      <th>14</th>\n",
       "      <td>NATO CALLS ON GREECE AND TURKEY TO AVOID FORCE...</td>\n",
       "      <td>crude</td>\n",
       "    </tr>\n",
       "    <tr>\n",
       "      <th>15</th>\n",
       "      <td>U.S. ENERGY COSTS ROSE IN FEBRUARY BY 1.9 PCT ...</td>\n",
       "      <td>crude</td>\n",
       "    </tr>\n",
       "    <tr>\n",
       "      <th>16</th>\n",
       "      <td>U.S. URGES RESTRAINT IN AEGEAN The United Stat...</td>\n",
       "      <td>crude</td>\n",
       "    </tr>\n",
       "    <tr>\n",
       "      <th>17</th>\n",
       "      <td>TURKISH SHIP IN OIL ROW HEADS FOR AEGEAN A Tur...</td>\n",
       "      <td>crude</td>\n",
       "    </tr>\n",
       "    <tr>\n",
       "      <th>18</th>\n",
       "      <td>PAPANDREOU SHOWS \"RESTRICTED OPTIMISM\" OVER CR...</td>\n",
       "      <td>crude</td>\n",
       "    </tr>\n",
       "    <tr>\n",
       "      <th>19</th>\n",
       "      <td>TURKISH-GREEK AEGEAN TENSION ABATES Turkey\"s s...</td>\n",
       "      <td>crude</td>\n",
       "    </tr>\n",
       "    <tr>\n",
       "      <th>20</th>\n",
       "      <td>BANK SEES MODEST RECOVERY IN GULF ARAB ECONOMI...</td>\n",
       "      <td>crude</td>\n",
       "    </tr>\n",
       "    <tr>\n",
       "      <th>21</th>\n",
       "      <td>TURKEY LIFTS SURVEY SHIP ESCORT AS TENSION ABA...</td>\n",
       "      <td>crude</td>\n",
       "    </tr>\n",
       "    <tr>\n",
       "      <th>22</th>\n",
       "      <td>29-MAR-1987 29-MAR-1987</td>\n",
       "      <td>crude</td>\n",
       "    </tr>\n",
       "    <tr>\n",
       "      <th>23</th>\n",
       "      <td>INDONESIA LIMITS OIL PRICE IMPACT-FINANCE MINI...</td>\n",
       "      <td>crude</td>\n",
       "    </tr>\n",
       "    <tr>\n",
       "      <th>24</th>\n",
       "      <td>BP U.K. REFINERY DUE TO PARTLY RE-OPEN NEXT WE...</td>\n",
       "      <td>crude</td>\n",
       "    </tr>\n",
       "    <tr>\n",
       "      <th>25</th>\n",
       "      <td>GREECE SCRAPS U.S. BASE CLOSURE REQUEST Prime ...</td>\n",
       "      <td>crude</td>\n",
       "    </tr>\n",
       "    <tr>\n",
       "      <th>26</th>\n",
       "      <td>MEXICAN FIRST QTR CRUDE EXPORTS SEEN AT 15.25 ...</td>\n",
       "      <td>crude</td>\n",
       "    </tr>\n",
       "    <tr>\n",
       "      <th>27</th>\n",
       "      <td>MEXICAN FIRST QTR CRUDE EXPORTS SEEN AT 15.25 ...</td>\n",
       "      <td>crude</td>\n",
       "    </tr>\n",
       "    <tr>\n",
       "      <th>28</th>\n",
       "      <td>CRUDE OIL NETBACKS UP IN U.S., MEDITERRANEAN C...</td>\n",
       "      <td>crude</td>\n",
       "    </tr>\n",
       "    <tr>\n",
       "      <th>29</th>\n",
       "      <td>LOWER REFINERY OPERATIONS SEEN PRODUCING PROFI...</td>\n",
       "      <td>crude</td>\n",
       "    </tr>\n",
       "    <tr>\n",
       "      <th>...</th>\n",
       "      <td>...</td>\n",
       "      <td>...</td>\n",
       "    </tr>\n",
       "    <tr>\n",
       "      <th>897</th>\n",
       "      <td>BAKER SAYS HE STANDS BY PARIS CURRENCY AGREEME...</td>\n",
       "      <td>money</td>\n",
       "    </tr>\n",
       "    <tr>\n",
       "      <th>898</th>\n",
       "      <td>Sumita says further yen rise would adversely a...</td>\n",
       "      <td>money</td>\n",
       "    </tr>\n",
       "    <tr>\n",
       "      <th>899</th>\n",
       "      <td>Sumita says major nations will continue to coo...</td>\n",
       "      <td>money</td>\n",
       "    </tr>\n",
       "    <tr>\n",
       "      <th>900</th>\n",
       "      <td>FURTHER YEN RISE WOULD HURT JAPAN ECONOMY, SUM...</td>\n",
       "      <td>money</td>\n",
       "    </tr>\n",
       "    <tr>\n",
       "      <th>901</th>\n",
       "      <td>MIYAZAWA SAYS MAJOR NATIONS ACTING ON PARIS AC...</td>\n",
       "      <td>money</td>\n",
       "    </tr>\n",
       "    <tr>\n",
       "      <th>902</th>\n",
       "      <td>BANK OF FRANCE LAUNCHES MONEY MARKET INTERVENT...</td>\n",
       "      <td>money</td>\n",
       "    </tr>\n",
       "    <tr>\n",
       "      <th>903</th>\n",
       "      <td>BANK OF FRANCE LAUNCHES MONEY MARKET TENDER Th...</td>\n",
       "      <td>money</td>\n",
       "    </tr>\n",
       "    <tr>\n",
       "      <th>904</th>\n",
       "      <td>U.K. MONEY MARKET LIQUIDITY POSITION EXPECTED ...</td>\n",
       "      <td>money</td>\n",
       "    </tr>\n",
       "    <tr>\n",
       "      <th>905</th>\n",
       "      <td>SHORT-DATED SAUDI RIYAL RATES FIRM IN QUIET MA...</td>\n",
       "      <td>money</td>\n",
       "    </tr>\n",
       "    <tr>\n",
       "      <th>906</th>\n",
       "      <td>MONETARY AUTHORITIES SAID TO LOSE CREDIBILITY ...</td>\n",
       "      <td>money</td>\n",
       "    </tr>\n",
       "    <tr>\n",
       "      <th>907</th>\n",
       "      <td>U.K. MONEY MARKET FORECAST REVISED TO DEFICIT ...</td>\n",
       "      <td>money</td>\n",
       "    </tr>\n",
       "    <tr>\n",
       "      <th>908</th>\n",
       "      <td>BANK OF JAPAN BUYS SMALL QUANTITY DOLLARS -DEA...</td>\n",
       "      <td>money</td>\n",
       "    </tr>\n",
       "    <tr>\n",
       "      <th>909</th>\n",
       "      <td>U.K. TRADE FIGURES BUOY HOPES OF INTEREST RATE...</td>\n",
       "      <td>money</td>\n",
       "    </tr>\n",
       "    <tr>\n",
       "      <th>910</th>\n",
       "      <td>CURRENCY EXCHANGE LOSS PUSHES MALAYSIA'S DEBT ...</td>\n",
       "      <td>money</td>\n",
       "    </tr>\n",
       "    <tr>\n",
       "      <th>911</th>\n",
       "      <td>TREASURY'S BAKER SAYS HE STANDS BY PARIS PACT ...</td>\n",
       "      <td>money</td>\n",
       "    </tr>\n",
       "    <tr>\n",
       "      <th>912</th>\n",
       "      <td>U.K. TRADE FIGURES BUOY HOPES OF INTEREST RATE...</td>\n",
       "      <td>money</td>\n",
       "    </tr>\n",
       "    <tr>\n",
       "      <th>913</th>\n",
       "      <td>U.S. TREASURY'S MULFORD REAFFIRMS G-6 PACT TO ...</td>\n",
       "      <td>money</td>\n",
       "    </tr>\n",
       "    <tr>\n",
       "      <th>914</th>\n",
       "      <td>TREASURY'S MULFORD SAYS G-6 HAS NO CURRENCY TA...</td>\n",
       "      <td>money</td>\n",
       "    </tr>\n",
       "    <tr>\n",
       "      <th>915</th>\n",
       "      <td>U.K. MONEY MARKET RECEIVES 226 MLN STG ASSISTA...</td>\n",
       "      <td>money</td>\n",
       "    </tr>\n",
       "    <tr>\n",
       "      <th>916</th>\n",
       "      <td>BANK OF FRANCE LEAVES MONEY MARKET INTERVENTIO...</td>\n",
       "      <td>money</td>\n",
       "    </tr>\n",
       "    <tr>\n",
       "      <th>917</th>\n",
       "      <td>BANK OF FRANCE BUYS DOLLARS, SELLS YEN - DEALE...</td>\n",
       "      <td>money</td>\n",
       "    </tr>\n",
       "    <tr>\n",
       "      <th>918</th>\n",
       "      <td>U.S TREASURY'S MULFORD REAFFIRMS G-6 AGREEMENT...</td>\n",
       "      <td>money</td>\n",
       "    </tr>\n",
       "    <tr>\n",
       "      <th>919</th>\n",
       "      <td>BANK OF FRANCE BUYS DOLLARS, SELLS YEN - DEALE...</td>\n",
       "      <td>money</td>\n",
       "    </tr>\n",
       "    <tr>\n",
       "      <th>920</th>\n",
       "      <td>U.K. MONEY MARKET GETS 25 MLN STG LATE HELP Th...</td>\n",
       "      <td>money</td>\n",
       "    </tr>\n",
       "    <tr>\n",
       "      <th>921</th>\n",
       "      <td>MULFORD SAYS G-6 WANTS STABILITY Treasury Assi...</td>\n",
       "      <td>money</td>\n",
       "    </tr>\n",
       "    <tr>\n",
       "      <th>922</th>\n",
       "      <td>DOLLAR/YEN INTERVENTION RESPONDS TO PRESSURE T...</td>\n",
       "      <td>money</td>\n",
       "    </tr>\n",
       "    <tr>\n",
       "      <th>923</th>\n",
       "      <td>MULFORD DISAPPOINTED IN NEWLY INDUSTRIALIZED (...</td>\n",
       "      <td>money</td>\n",
       "    </tr>\n",
       "    <tr>\n",
       "      <th>924</th>\n",
       "      <td>MULFORD SAYS GERMANY, JAPAN SHOULD DO MORE Tre...</td>\n",
       "      <td>money</td>\n",
       "    </tr>\n",
       "    <tr>\n",
       "      <th>925</th>\n",
       "      <td>GERMAN WAGE ROUND SAID TO LIMIT MONETARY OPTIO...</td>\n",
       "      <td>money</td>\n",
       "    </tr>\n",
       "    <tr>\n",
       "      <th>926</th>\n",
       "      <td>U.K. MONEY MARKET SHORTAGE FORECAST REVISED DO...</td>\n",
       "      <td>money</td>\n",
       "    </tr>\n",
       "  </tbody>\n",
       "</table>\n",
       "<p>927 rows × 2 columns</p>\n",
       "</div>"
      ],
      "text/plain": [
       "                                               Article Target\n",
       "0    CANADA OIL EXPORTS RISE 20 PCT IN 1986 Canadia...  crude\n",
       "1    BP &lt;BP> DOES NOT PLAN TO HIKE STANDARD &lt;...  crude\n",
       "2    BP&lt;BP> OFFER RAISES EXPECTATIONS FOR OIL VA...  crude\n",
       "3    USX &lt;X> SAYS TALKS ENDED WITH BRITISH PETRO...  crude\n",
       "4    BP &lt;BP> MAY HAVE TO RAISE BID -  ANALYSTS B...  crude\n",
       "5    STANDARD OIL &lt;SRD> SEES BOOST IN 1987 CASH ...  crude\n",
       "6    NEXT FEW MONTHS CRUCIAL FOR OIL - HERNANDEZ En...  crude\n",
       "7    BRAZIL OIL OUTPUT FELL IN FEBRUARY, USAGE UP B...  crude\n",
       "8    OIL EXECUTIVES SEE GRADUAL RISE IN PRICES Top ...  crude\n",
       "9    KENYAN ECONOMY FACES PROBLEMS, PRESIDENT SAYS ...  crude\n",
       "10   INDIA STEPS UP COUNTERTRADE DEALS TO CUT TRADE...  crude\n",
       "11   PAPANDREOU SAYS GREEKS READY FOR AGGRESSORS Gr...  crude\n",
       "12   INDIA STEPS UP COUNTERTRADE DEALS India is sea...  crude\n",
       "13   NATO HOLDS EMERGENCY MEETING ON AEGEAN CRISIS ...  crude\n",
       "14   NATO CALLS ON GREECE AND TURKEY TO AVOID FORCE...  crude\n",
       "15   U.S. ENERGY COSTS ROSE IN FEBRUARY BY 1.9 PCT ...  crude\n",
       "16   U.S. URGES RESTRAINT IN AEGEAN The United Stat...  crude\n",
       "17   TURKISH SHIP IN OIL ROW HEADS FOR AEGEAN A Tur...  crude\n",
       "18   PAPANDREOU SHOWS \"RESTRICTED OPTIMISM\" OVER CR...  crude\n",
       "19   TURKISH-GREEK AEGEAN TENSION ABATES Turkey\"s s...  crude\n",
       "20   BANK SEES MODEST RECOVERY IN GULF ARAB ECONOMI...  crude\n",
       "21   TURKEY LIFTS SURVEY SHIP ESCORT AS TENSION ABA...  crude\n",
       "22                            29-MAR-1987 29-MAR-1987   crude\n",
       "23   INDONESIA LIMITS OIL PRICE IMPACT-FINANCE MINI...  crude\n",
       "24   BP U.K. REFINERY DUE TO PARTLY RE-OPEN NEXT WE...  crude\n",
       "25   GREECE SCRAPS U.S. BASE CLOSURE REQUEST Prime ...  crude\n",
       "26   MEXICAN FIRST QTR CRUDE EXPORTS SEEN AT 15.25 ...  crude\n",
       "27   MEXICAN FIRST QTR CRUDE EXPORTS SEEN AT 15.25 ...  crude\n",
       "28   CRUDE OIL NETBACKS UP IN U.S., MEDITERRANEAN C...  crude\n",
       "29   LOWER REFINERY OPERATIONS SEEN PRODUCING PROFI...  crude\n",
       "..                                                 ...    ...\n",
       "897  BAKER SAYS HE STANDS BY PARIS CURRENCY AGREEME...  money\n",
       "898  Sumita says further yen rise would adversely a...  money\n",
       "899  Sumita says major nations will continue to coo...  money\n",
       "900  FURTHER YEN RISE WOULD HURT JAPAN ECONOMY, SUM...  money\n",
       "901  MIYAZAWA SAYS MAJOR NATIONS ACTING ON PARIS AC...  money\n",
       "902  BANK OF FRANCE LAUNCHES MONEY MARKET INTERVENT...  money\n",
       "903  BANK OF FRANCE LAUNCHES MONEY MARKET TENDER Th...  money\n",
       "904  U.K. MONEY MARKET LIQUIDITY POSITION EXPECTED ...  money\n",
       "905  SHORT-DATED SAUDI RIYAL RATES FIRM IN QUIET MA...  money\n",
       "906  MONETARY AUTHORITIES SAID TO LOSE CREDIBILITY ...  money\n",
       "907  U.K. MONEY MARKET FORECAST REVISED TO DEFICIT ...  money\n",
       "908  BANK OF JAPAN BUYS SMALL QUANTITY DOLLARS -DEA...  money\n",
       "909  U.K. TRADE FIGURES BUOY HOPES OF INTEREST RATE...  money\n",
       "910  CURRENCY EXCHANGE LOSS PUSHES MALAYSIA'S DEBT ...  money\n",
       "911  TREASURY'S BAKER SAYS HE STANDS BY PARIS PACT ...  money\n",
       "912  U.K. TRADE FIGURES BUOY HOPES OF INTEREST RATE...  money\n",
       "913  U.S. TREASURY'S MULFORD REAFFIRMS G-6 PACT TO ...  money\n",
       "914  TREASURY'S MULFORD SAYS G-6 HAS NO CURRENCY TA...  money\n",
       "915  U.K. MONEY MARKET RECEIVES 226 MLN STG ASSISTA...  money\n",
       "916  BANK OF FRANCE LEAVES MONEY MARKET INTERVENTIO...  money\n",
       "917  BANK OF FRANCE BUYS DOLLARS, SELLS YEN - DEALE...  money\n",
       "918  U.S TREASURY'S MULFORD REAFFIRMS G-6 AGREEMENT...  money\n",
       "919  BANK OF FRANCE BUYS DOLLARS, SELLS YEN - DEALE...  money\n",
       "920  U.K. MONEY MARKET GETS 25 MLN STG LATE HELP Th...  money\n",
       "921  MULFORD SAYS G-6 WANTS STABILITY Treasury Assi...  money\n",
       "922  DOLLAR/YEN INTERVENTION RESPONDS TO PRESSURE T...  money\n",
       "923  MULFORD DISAPPOINTED IN NEWLY INDUSTRIALIZED (...  money\n",
       "924  MULFORD SAYS GERMANY, JAPAN SHOULD DO MORE Tre...  money\n",
       "925  GERMAN WAGE ROUND SAID TO LIMIT MONETARY OPTIO...  money\n",
       "926  U.K. MONEY MARKET SHORTAGE FORECAST REVISED DO...  money\n",
       "\n",
       "[927 rows x 2 columns]"
      ]
     },
     "execution_count": 11,
     "metadata": {},
     "output_type": "execute_result"
    }
   ],
   "source": [
    "mydata"
   ]
  },
  {
   "cell_type": "code",
   "execution_count": 12,
   "metadata": {},
   "outputs": [],
   "source": [
    "mydata[\"article\"] = corpus"
   ]
  },
  {
   "cell_type": "code",
   "execution_count": 13,
   "metadata": {},
   "outputs": [],
   "source": [
    "del mydata[\"Article\"]"
   ]
  },
  {
   "cell_type": "code",
   "execution_count": 14,
   "metadata": {},
   "outputs": [],
   "source": [
    "# mydata = mydata.rename(columns= {\"corpus\" : \"article\", \"Target\":\"target\"})"
   ]
  },
  {
   "cell_type": "markdown",
   "metadata": {},
   "source": [
    "# train test split"
   ]
  },
  {
   "cell_type": "code",
   "execution_count": 15,
   "metadata": {},
   "outputs": [],
   "source": [
    "from sklearn.model_selection import train_test_split"
   ]
  },
  {
   "cell_type": "code",
   "execution_count": 16,
   "metadata": {},
   "outputs": [],
   "source": [
    "article_train,article_test = train_test_split(mydata , test_size = 0.2, random_state = 42)"
   ]
  },
  {
   "cell_type": "code",
   "execution_count": 17,
   "metadata": {},
   "outputs": [],
   "source": [
    "article_train.reset_index(drop=True , inplace= True)"
   ]
  },
  {
   "cell_type": "code",
   "execution_count": 18,
   "metadata": {},
   "outputs": [
    {
     "data": {
      "text/html": [
       "<div>\n",
       "<style scoped>\n",
       "    .dataframe tbody tr th:only-of-type {\n",
       "        vertical-align: middle;\n",
       "    }\n",
       "\n",
       "    .dataframe tbody tr th {\n",
       "        vertical-align: top;\n",
       "    }\n",
       "\n",
       "    .dataframe thead th {\n",
       "        text-align: right;\n",
       "    }\n",
       "</style>\n",
       "<table border=\"1\" class=\"dataframe\">\n",
       "  <thead>\n",
       "    <tr style=\"text-align: right;\">\n",
       "      <th></th>\n",
       "      <th>Target</th>\n",
       "      <th>article</th>\n",
       "    </tr>\n",
       "  </thead>\n",
       "  <tbody>\n",
       "    <tr>\n",
       "      <th>0</th>\n",
       "      <td>money</td>\n",
       "      <td>n dealer believe fed intervened buy dlrs feder...</td>\n",
       "    </tr>\n",
       "    <tr>\n",
       "      <th>1</th>\n",
       "      <td>crude</td>\n",
       "      <td>creditor seek swift rescue package japan line ...</td>\n",
       "    </tr>\n",
       "    <tr>\n",
       "      <th>2</th>\n",
       "      <td>money</td>\n",
       "      <td>german net currency reserve rise west german n...</td>\n",
       "    </tr>\n",
       "    <tr>\n",
       "      <th>3</th>\n",
       "      <td>money</td>\n",
       "      <td>indonesian bank raise interest rate tight mone...</td>\n",
       "    </tr>\n",
       "    <tr>\n",
       "      <th>4</th>\n",
       "      <td>money</td>\n",
       "      <td>currency future key g g meeting news agreement...</td>\n",
       "    </tr>\n",
       "  </tbody>\n",
       "</table>\n",
       "</div>"
      ],
      "text/plain": [
       "  Target                                            article\n",
       "0  money  n dealer believe fed intervened buy dlrs feder...\n",
       "1  crude  creditor seek swift rescue package japan line ...\n",
       "2  money  german net currency reserve rise west german n...\n",
       "3  money  indonesian bank raise interest rate tight mone...\n",
       "4  money  currency future key g g meeting news agreement..."
      ]
     },
     "execution_count": 18,
     "metadata": {},
     "output_type": "execute_result"
    }
   ],
   "source": [
    "article_train.head()"
   ]
  },
  {
   "cell_type": "code",
   "execution_count": 19,
   "metadata": {},
   "outputs": [
    {
     "data": {
      "text/plain": [
       "(741, 2)"
      ]
     },
     "execution_count": 19,
     "metadata": {},
     "output_type": "execute_result"
    }
   ],
   "source": [
    "article_train.shape"
   ]
  },
  {
   "cell_type": "markdown",
   "metadata": {},
   "source": [
    "# Creating the Bag of words model "
   ]
  },
  {
   "cell_type": "code",
   "execution_count": 20,
   "metadata": {},
   "outputs": [],
   "source": [
    "from sklearn.feature_extraction.text import CountVectorizer\n",
    "\n",
    "cv = CountVectorizer(min_df= 30, max_df=500)"
   ]
  },
  {
   "cell_type": "code",
   "execution_count": 21,
   "metadata": {},
   "outputs": [
    {
     "data": {
      "text/plain": [
       "(741, 395)"
      ]
     },
     "execution_count": 21,
     "metadata": {},
     "output_type": "execute_result"
    }
   ],
   "source": [
    "# Doing the transformation of the train data\n",
    "X = cv.fit_transform(article_train[\"article\"])\n",
    "\n",
    "independent_train = pd.DataFrame(X.toarray() , columns= cv.get_feature_names())\n",
    "\n",
    "independent_train.shape"
   ]
  },
  {
   "cell_type": "code",
   "execution_count": 22,
   "metadata": {},
   "outputs": [
    {
     "data": {
      "text/plain": [
       "(186, 395)"
      ]
     },
     "execution_count": 22,
     "metadata": {},
     "output_type": "execute_result"
    }
   ],
   "source": [
    "# Doing the transformation of the test data\n",
    "Y = cv.transform(article_test[\"article\"])\n",
    "\n",
    "independent_test = pd.DataFrame(Y.toarray() ,columns= cv.get_feature_names())\n",
    "\n",
    "independent_test.shape\n"
   ]
  },
  {
   "cell_type": "code",
   "execution_count": 23,
   "metadata": {},
   "outputs": [
    {
     "name": "stderr",
     "output_type": "stream",
     "text": [
      "D:\\Python\\lib\\site-packages\\ipykernel_launcher.py:3: SettingWithCopyWarning: \n",
      "A value is trying to be set on a copy of a slice from a DataFrame.\n",
      "Try using .loc[row_indexer,col_indexer] = value instead\n",
      "\n",
      "See the caveats in the documentation: http://pandas.pydata.org/pandas-docs/stable/indexing.html#indexing-view-versus-copy\n",
      "  This is separate from the ipykernel package so we can avoid doing imports until\n",
      "D:\\Python\\lib\\site-packages\\ipykernel_launcher.py:4: SettingWithCopyWarning: \n",
      "A value is trying to be set on a copy of a slice from a DataFrame.\n",
      "Try using .loc[row_indexer,col_indexer] = value instead\n",
      "\n",
      "See the caveats in the documentation: http://pandas.pydata.org/pandas-docs/stable/indexing.html#indexing-view-versus-copy\n",
      "  after removing the cwd from sys.path.\n"
     ]
    }
   ],
   "source": [
    "# Creating dummies for labels\n",
    "\n",
    "article_train[\"Target\"] = (article_train[\"Target\"] == \"money\").astype(int)\n",
    "article_test[\"Target\"] = (article_test[\"Target\"] == \"money\").astype(int)"
   ]
  },
  {
   "cell_type": "markdown",
   "metadata": {},
   "source": [
    "# Using Naive_bayes for Modeling"
   ]
  },
  {
   "cell_type": "code",
   "execution_count": 24,
   "metadata": {},
   "outputs": [],
   "source": [
    "from sklearn.naive_bayes import MultinomialNB\n",
    "\n",
    "nb = MultinomialNB()"
   ]
  },
  {
   "cell_type": "code",
   "execution_count": 25,
   "metadata": {},
   "outputs": [],
   "source": [
    "# Fitting the model \n",
    "model = nb.fit(independent_train , article_train.Target)\n",
    "\n",
    "prediction = model.predict(independent_test)"
   ]
  },
  {
   "cell_type": "markdown",
   "metadata": {},
   "source": [
    "## Accuracy score"
   ]
  },
  {
   "cell_type": "code",
   "execution_count": 26,
   "metadata": {},
   "outputs": [
    {
     "data": {
      "text/plain": [
       "0.9838709677419355"
      ]
     },
     "execution_count": 26,
     "metadata": {},
     "output_type": "execute_result"
    }
   ],
   "source": [
    "from sklearn.metrics import accuracy_score\n",
    "\n",
    "accuracy_score(prediction , article_test.Target)"
   ]
  },
  {
   "cell_type": "markdown",
   "metadata": {},
   "source": [
    "## Confusion matrix"
   ]
  },
  {
   "cell_type": "code",
   "execution_count": 27,
   "metadata": {},
   "outputs": [
    {
     "data": {
      "text/plain": [
       "array([[86,  0],\n",
       "       [ 3, 97]], dtype=int64)"
      ]
     },
     "execution_count": 27,
     "metadata": {},
     "output_type": "execute_result"
    }
   ],
   "source": [
    "from sklearn.metrics import confusion_matrix\n",
    "\n",
    "confusion_matrix(prediction , article_test.Target)"
   ]
  },
  {
   "cell_type": "markdown",
   "metadata": {},
   "source": [
    "# Using Support Vector Machines for Modeling"
   ]
  },
  {
   "cell_type": "code",
   "execution_count": 28,
   "metadata": {},
   "outputs": [],
   "source": [
    "from sklearn.svm import SVC\n",
    "\n",
    "sv = SVC()"
   ]
  },
  {
   "cell_type": "code",
   "execution_count": 29,
   "metadata": {},
   "outputs": [],
   "source": [
    "# Fitting the model \n",
    "svmodel = sv.fit(independent_train , article_train.Target)\n",
    "\n",
    "prediction = svmodel.predict(independent_test)"
   ]
  },
  {
   "cell_type": "markdown",
   "metadata": {},
   "source": [
    "## Accuracy score"
   ]
  },
  {
   "cell_type": "code",
   "execution_count": 30,
   "metadata": {},
   "outputs": [
    {
     "data": {
      "text/plain": [
       "0.989247311827957"
      ]
     },
     "execution_count": 30,
     "metadata": {},
     "output_type": "execute_result"
    }
   ],
   "source": [
    "from sklearn.metrics import accuracy_score\n",
    "\n",
    "accuracy_score( article_test.Target , prediction )"
   ]
  },
  {
   "cell_type": "markdown",
   "metadata": {},
   "source": [
    "## Confusion matrix"
   ]
  },
  {
   "cell_type": "code",
   "execution_count": 31,
   "metadata": {},
   "outputs": [
    {
     "data": {
      "text/plain": [
       "array([[87,  2],\n",
       "       [ 0, 97]], dtype=int64)"
      ]
     },
     "execution_count": 31,
     "metadata": {},
     "output_type": "execute_result"
    }
   ],
   "source": [
    "from sklearn.metrics import confusion_matrix\n",
    "\n",
    "confusion_matrix(article_test.Target, prediction)"
   ]
  },
  {
   "cell_type": "markdown",
   "metadata": {},
   "source": [
    "## Creating Tf-idf vector"
   ]
  },
  {
   "cell_type": "code",
   "execution_count": 32,
   "metadata": {},
   "outputs": [],
   "source": [
    "from sklearn.feature_extraction.text import TfidfVectorizer\n",
    "\n",
    "tv = TfidfVectorizer(min_df= 30, max_df=500)"
   ]
  },
  {
   "cell_type": "code",
   "execution_count": 33,
   "metadata": {},
   "outputs": [
    {
     "data": {
      "text/html": [
       "<div>\n",
       "<style scoped>\n",
       "    .dataframe tbody tr th:only-of-type {\n",
       "        vertical-align: middle;\n",
       "    }\n",
       "\n",
       "    .dataframe tbody tr th {\n",
       "        vertical-align: top;\n",
       "    }\n",
       "\n",
       "    .dataframe thead th {\n",
       "        text-align: right;\n",
       "    }\n",
       "</style>\n",
       "<table border=\"1\" class=\"dataframe\">\n",
       "  <thead>\n",
       "    <tr style=\"text-align: right;\">\n",
       "      <th></th>\n",
       "      <th>accord</th>\n",
       "      <th>according</th>\n",
       "      <th>account</th>\n",
       "      <th>action</th>\n",
       "      <th>add</th>\n",
       "      <th>added</th>\n",
       "      <th>adding</th>\n",
       "      <th>administration</th>\n",
       "      <th>afternoon</th>\n",
       "      <th>agency</th>\n",
       "      <th>...</th>\n",
       "      <th>west</th>\n",
       "      <th>whether</th>\n",
       "      <th>within</th>\n",
       "      <th>work</th>\n",
       "      <th>world</th>\n",
       "      <th>would</th>\n",
       "      <th>year</th>\n",
       "      <th>yen</th>\n",
       "      <th>yesterday</th>\n",
       "      <th>york</th>\n",
       "    </tr>\n",
       "  </thead>\n",
       "  <tbody>\n",
       "    <tr>\n",
       "      <th>0</th>\n",
       "      <td>0.000000</td>\n",
       "      <td>0.0</td>\n",
       "      <td>0.139766</td>\n",
       "      <td>0.0</td>\n",
       "      <td>0.0</td>\n",
       "      <td>0.000000</td>\n",
       "      <td>0.0</td>\n",
       "      <td>0.0</td>\n",
       "      <td>0.0</td>\n",
       "      <td>0.000000</td>\n",
       "      <td>...</td>\n",
       "      <td>0.000000</td>\n",
       "      <td>0.154113</td>\n",
       "      <td>0.0</td>\n",
       "      <td>0.000000</td>\n",
       "      <td>0.000000</td>\n",
       "      <td>0.000000</td>\n",
       "      <td>0.000000</td>\n",
       "      <td>0.226449</td>\n",
       "      <td>0.0</td>\n",
       "      <td>0.0</td>\n",
       "    </tr>\n",
       "    <tr>\n",
       "      <th>1</th>\n",
       "      <td>0.000000</td>\n",
       "      <td>0.0</td>\n",
       "      <td>0.000000</td>\n",
       "      <td>0.0</td>\n",
       "      <td>0.0</td>\n",
       "      <td>0.000000</td>\n",
       "      <td>0.0</td>\n",
       "      <td>0.0</td>\n",
       "      <td>0.0</td>\n",
       "      <td>0.000000</td>\n",
       "      <td>...</td>\n",
       "      <td>0.000000</td>\n",
       "      <td>0.000000</td>\n",
       "      <td>0.0</td>\n",
       "      <td>0.072048</td>\n",
       "      <td>0.112176</td>\n",
       "      <td>0.000000</td>\n",
       "      <td>0.038010</td>\n",
       "      <td>0.257454</td>\n",
       "      <td>0.0</td>\n",
       "      <td>0.0</td>\n",
       "    </tr>\n",
       "    <tr>\n",
       "      <th>2</th>\n",
       "      <td>0.000000</td>\n",
       "      <td>0.0</td>\n",
       "      <td>0.000000</td>\n",
       "      <td>0.0</td>\n",
       "      <td>0.0</td>\n",
       "      <td>0.000000</td>\n",
       "      <td>0.0</td>\n",
       "      <td>0.0</td>\n",
       "      <td>0.0</td>\n",
       "      <td>0.000000</td>\n",
       "      <td>...</td>\n",
       "      <td>0.127981</td>\n",
       "      <td>0.000000</td>\n",
       "      <td>0.0</td>\n",
       "      <td>0.000000</td>\n",
       "      <td>0.000000</td>\n",
       "      <td>0.000000</td>\n",
       "      <td>0.000000</td>\n",
       "      <td>0.000000</td>\n",
       "      <td>0.0</td>\n",
       "      <td>0.0</td>\n",
       "    </tr>\n",
       "    <tr>\n",
       "      <th>3</th>\n",
       "      <td>0.000000</td>\n",
       "      <td>0.0</td>\n",
       "      <td>0.084442</td>\n",
       "      <td>0.0</td>\n",
       "      <td>0.0</td>\n",
       "      <td>0.067771</td>\n",
       "      <td>0.0</td>\n",
       "      <td>0.0</td>\n",
       "      <td>0.0</td>\n",
       "      <td>0.088632</td>\n",
       "      <td>...</td>\n",
       "      <td>0.000000</td>\n",
       "      <td>0.000000</td>\n",
       "      <td>0.0</td>\n",
       "      <td>0.000000</td>\n",
       "      <td>0.000000</td>\n",
       "      <td>0.000000</td>\n",
       "      <td>0.302983</td>\n",
       "      <td>0.000000</td>\n",
       "      <td>0.0</td>\n",
       "      <td>0.0</td>\n",
       "    </tr>\n",
       "    <tr>\n",
       "      <th>4</th>\n",
       "      <td>0.128314</td>\n",
       "      <td>0.0</td>\n",
       "      <td>0.000000</td>\n",
       "      <td>0.0</td>\n",
       "      <td>0.0</td>\n",
       "      <td>0.000000</td>\n",
       "      <td>0.0</td>\n",
       "      <td>0.0</td>\n",
       "      <td>0.0</td>\n",
       "      <td>0.000000</td>\n",
       "      <td>...</td>\n",
       "      <td>0.000000</td>\n",
       "      <td>0.000000</td>\n",
       "      <td>0.0</td>\n",
       "      <td>0.000000</td>\n",
       "      <td>0.000000</td>\n",
       "      <td>0.125581</td>\n",
       "      <td>0.052915</td>\n",
       "      <td>0.250889</td>\n",
       "      <td>0.0</td>\n",
       "      <td>0.0</td>\n",
       "    </tr>\n",
       "  </tbody>\n",
       "</table>\n",
       "<p>5 rows × 395 columns</p>\n",
       "</div>"
      ],
      "text/plain": [
       "     accord  according   account  action  add     added  adding  \\\n",
       "0  0.000000        0.0  0.139766     0.0  0.0  0.000000     0.0   \n",
       "1  0.000000        0.0  0.000000     0.0  0.0  0.000000     0.0   \n",
       "2  0.000000        0.0  0.000000     0.0  0.0  0.000000     0.0   \n",
       "3  0.000000        0.0  0.084442     0.0  0.0  0.067771     0.0   \n",
       "4  0.128314        0.0  0.000000     0.0  0.0  0.000000     0.0   \n",
       "\n",
       "   administration  afternoon    agency  ...       west   whether  within  \\\n",
       "0             0.0        0.0  0.000000  ...   0.000000  0.154113     0.0   \n",
       "1             0.0        0.0  0.000000  ...   0.000000  0.000000     0.0   \n",
       "2             0.0        0.0  0.000000  ...   0.127981  0.000000     0.0   \n",
       "3             0.0        0.0  0.088632  ...   0.000000  0.000000     0.0   \n",
       "4             0.0        0.0  0.000000  ...   0.000000  0.000000     0.0   \n",
       "\n",
       "       work     world     would      year       yen  yesterday  york  \n",
       "0  0.000000  0.000000  0.000000  0.000000  0.226449        0.0   0.0  \n",
       "1  0.072048  0.112176  0.000000  0.038010  0.257454        0.0   0.0  \n",
       "2  0.000000  0.000000  0.000000  0.000000  0.000000        0.0   0.0  \n",
       "3  0.000000  0.000000  0.000000  0.302983  0.000000        0.0   0.0  \n",
       "4  0.000000  0.000000  0.125581  0.052915  0.250889        0.0   0.0  \n",
       "\n",
       "[5 rows x 395 columns]"
      ]
     },
     "execution_count": 33,
     "metadata": {},
     "output_type": "execute_result"
    }
   ],
   "source": [
    "# Doing the transformation of the train data\n",
    "A = tv.fit_transform(article_train[\"article\"])\n",
    "\n",
    "independent_train_tfidf = pd.DataFrame(A.toarray() , columns= tv.get_feature_names())\n",
    "\n",
    "independent_train_tfidf.head()"
   ]
  },
  {
   "cell_type": "code",
   "execution_count": 34,
   "metadata": {},
   "outputs": [
    {
     "data": {
      "text/plain": [
       "(186, 395)"
      ]
     },
     "execution_count": 34,
     "metadata": {},
     "output_type": "execute_result"
    }
   ],
   "source": [
    "# Doing the transformation of the test data\n",
    "B = tv.transform(article_test[\"article\"])\n",
    "\n",
    "independent_test_tfidf = pd.DataFrame(B.toarray() ,columns= tv.get_feature_names())\n",
    "\n",
    "independent_test_tfidf.shape"
   ]
  },
  {
   "cell_type": "markdown",
   "metadata": {},
   "source": [
    "## Performing a fit and prediction on tf-idf using naive-bayes"
   ]
  },
  {
   "cell_type": "code",
   "execution_count": 35,
   "metadata": {},
   "outputs": [],
   "source": [
    "nb_tfidf_model = nb.fit(independent_train_tfidf, article_train.Target)\n",
    "\n",
    "prediction_tfidf = nb_tfidf_model.predict(independent_test_tfidf)"
   ]
  },
  {
   "cell_type": "markdown",
   "metadata": {},
   "source": [
    "## Accuracy score"
   ]
  },
  {
   "cell_type": "code",
   "execution_count": 36,
   "metadata": {},
   "outputs": [
    {
     "data": {
      "text/plain": [
       "0.978494623655914"
      ]
     },
     "execution_count": 36,
     "metadata": {},
     "output_type": "execute_result"
    }
   ],
   "source": [
    "accuracy_score(article_test.Target , prediction_tfidf)"
   ]
  },
  {
   "cell_type": "markdown",
   "metadata": {},
   "source": [
    "## Confusion matrix"
   ]
  },
  {
   "cell_type": "code",
   "execution_count": 37,
   "metadata": {},
   "outputs": [
    {
     "data": {
      "text/plain": [
       "array([[85,  4],\n",
       "       [ 0, 97]], dtype=int64)"
      ]
     },
     "execution_count": 37,
     "metadata": {},
     "output_type": "execute_result"
    }
   ],
   "source": [
    "confusion_matrix(article_test.Target , prediction_tfidf)"
   ]
  },
  {
   "cell_type": "markdown",
   "metadata": {},
   "source": [
    "## Performing a fit and prediction on tf-idf using Support vector machines"
   ]
  },
  {
   "cell_type": "code",
   "execution_count": 38,
   "metadata": {},
   "outputs": [],
   "source": [
    "svmodel_tfidf = sv.fit(independent_train_tfidf , article_train.Target)\n",
    "\n",
    "prediction_tfidf = svmodel_tfidf.predict(independent_test_tfidf)"
   ]
  },
  {
   "cell_type": "markdown",
   "metadata": {},
   "source": [
    "## Accuracy score"
   ]
  },
  {
   "cell_type": "code",
   "execution_count": 39,
   "metadata": {},
   "outputs": [
    {
     "data": {
      "text/plain": [
       "0.521505376344086"
      ]
     },
     "execution_count": 39,
     "metadata": {},
     "output_type": "execute_result"
    }
   ],
   "source": [
    "accuracy_score(article_test.Target , prediction_tfidf)"
   ]
  },
  {
   "cell_type": "code",
   "execution_count": 40,
   "metadata": {},
   "outputs": [
    {
     "data": {
      "text/plain": [
       "array([[ 0, 89],\n",
       "       [ 0, 97]], dtype=int64)"
      ]
     },
     "execution_count": 40,
     "metadata": {},
     "output_type": "execute_result"
    }
   ],
   "source": [
    "confusion_matrix(article_test.Target , prediction_tfidf)"
   ]
  }
 ],
 "metadata": {
  "kernelspec": {
   "display_name": "Python 3",
   "language": "python",
   "name": "python3"
  },
  "language_info": {
   "codemirror_mode": {
    "name": "ipython",
    "version": 3
   },
   "file_extension": ".py",
   "mimetype": "text/x-python",
   "name": "python",
   "nbconvert_exporter": "python",
   "pygments_lexer": "ipython3",
   "version": "3.6.4"
  }
 },
 "nbformat": 4,
 "nbformat_minor": 2
}
